{
 "cells": [
  {
   "cell_type": "markdown",
   "metadata": {},
   "source": [
    "## 引用套件"
   ]
  },
  {
   "cell_type": "code",
   "execution_count": 8,
   "metadata": {
    "collapsed": true
   },
   "outputs": [],
   "source": [
    "from N_Gram import longTermPriority\n",
    "from N_Gram import resultPrintOut"
   ]
  },
  {
   "cell_type": "markdown",
   "metadata": {},
   "source": [
    "## 方法實作"
   ]
  },
  {
   "cell_type": "code",
   "execution_count": 11,
   "metadata": {
    "collapsed": false,
    "scrolled": true
   },
   "outputs": [
    {
     "name": "stdout",
     "output_type": "stream",
     "text": [
      "字詞 \t詞頻\n",
      "============\n",
      "那僧道 \t6\n",
      "士隱聽 \t6\n",
      "空道人 \t5\n",
      "隱聽了 \t5\n",
      "那道人 \t5\n",
      "空空道 \t5\n",
      "士隱 \t38\n",
      "雨村 \t24\n",
      "笑道 \t17\n",
      "那僧 \t11\n",
      "不知 \t10\n",
      "道人 \t9\n",
      "一段 \t8\n",
      "弟子 \t8\n",
      "不過 \t8\n",
      "世人 \t8\n",
      "丫鬟 \t8\n",
      "了一 \t7\n",
      "風流 \t7\n",
      "故事 \t7\n",
      "石頭 \t7\n",
      "去了 \t7\n",
      "有一 \t7\n",
      "二人 \t7\n",
      "紅塵 \t6\n",
      "意欲 \t6\n",
      "聽了 \t6\n",
      "英蓮 \t6\n",
      "富貴 \t6\n",
      "不可 \t6\n",
      "原來 \t6\n",
      "這一 \t6\n",
      "蠢物 \t6\n",
      "如此 \t6\n",
      "其中 \t5\n",
      "人都 \t5\n",
      "又有 \t5\n",
      "心中 \t5\n",
      "幾個 \t5\n",
      "之人 \t5\n",
      "之事 \t5\n",
      "明白 \t5\n",
      "說道 \t5\n",
      "有些 \t5\n",
      "不能 \t5\n",
      "也不 \t5\n",
      "自己 \t5\n",
      "封肅 \t5\n",
      "如今 \t5\n",
      "說著 \t5\n",
      "不了 \t5\n",
      "神仙 \t5\n",
      "下世 \t5\n",
      "女子 \t5\n"
     ]
    }
   ],
   "source": [
    "result = longTermPriority('D:\\\\BigData\\\\Python\\\\Workspace\\\\TextMining\\\\N-Gram\\\\textFiles\\\\test.txt', 3, 5) #(檔案路徑，字詞長度，最少詞頻)\n",
    "resultPrintOut(result)"
   ]
  },
  {
   "cell_type": "markdown",
   "metadata": {},
   "source": [
    "## 參考連結：http://bryannotes.blogspot.tw/2014/07/python-n-gram_16.html\n",
    "## 參考連結：http://hambao.pixnet.net/blog/post/18823664-python%E7%AD%86%E8%A8%98%EF%BC%9A%E7%94%A2%E7%94%9Fn-gram%E4%BB%A5%E5%8F%8A%E7%B0%A1%E5%96%AE%E9%A0%BB%E7%8E%87%E7%B5%B1%E8%A8%88"
   ]
  }
 ],
 "metadata": {
  "kernelspec": {
   "display_name": "Python 2",
   "language": "python",
   "name": "python2"
  },
  "language_info": {
   "codemirror_mode": {
    "name": "ipython",
    "version": 2
   },
   "file_extension": ".py",
   "mimetype": "text/x-python",
   "name": "python",
   "nbconvert_exporter": "python",
   "pygments_lexer": "ipython2",
   "version": "2.7.11"
  }
 },
 "nbformat": 4,
 "nbformat_minor": 0
}
